{
  "nbformat": 4,
  "nbformat_minor": 0,
  "metadata": {
    "colab": {
      "provenance": [],
      "authorship_tag": "ABX9TyPKDhFKHFtO+gdlXsKuxZzu",
      "include_colab_link": true
    },
    "kernelspec": {
      "name": "python3",
      "display_name": "Python 3"
    },
    "language_info": {
      "name": "python"
    }
  },
  "cells": [
    {
      "cell_type": "markdown",
      "metadata": {
        "id": "view-in-github",
        "colab_type": "text"
      },
      "source": [
        "<a href=\"https://colab.research.google.com/github/Ediovan-Ribeiro/Python_exercicios/blob/main/exercicios1.ipynb\" target=\"_parent\"><img src=\"https://colab.research.google.com/assets/colab-badge.svg\" alt=\"Open In Colab\"/></a>"
      ]
    },
    {
      "cell_type": "markdown",
      "source": [
        "Crie um programa que solicite à pessoa usuária digitar seu nome, e imprima “Olá, [nome]!”."
      ],
      "metadata": {
        "id": "mdzpVC8FUD26"
      }
    },
    {
      "cell_type": "code",
      "execution_count": null,
      "metadata": {
        "colab": {
          "base_uri": "https://localhost:8080/"
        },
        "id": "gFJ7cGmBTmoz",
        "outputId": "d9c831c3-af75-46d7-ebc5-8def256b5785"
      },
      "outputs": [
        {
          "name": "stdout",
          "output_type": "stream",
          "text": [
            "diga seu nome: Ediovan\n"
          ]
        }
      ],
      "source": [
        "nome = input(\"diga seu nome: \")"
      ]
    },
    {
      "cell_type": "code",
      "source": [
        "print(f\"olá {nome} sejá bem vindo ao curso de python\")"
      ],
      "metadata": {
        "colab": {
          "base_uri": "https://localhost:8080/"
        },
        "id": "wdCFcluhUMZ6",
        "outputId": "d44c7f1b-55e4-46fa-9e09-df905944d7c4"
      },
      "execution_count": null,
      "outputs": [
        {
          "output_type": "stream",
          "name": "stdout",
          "text": [
            "olá Ediovan sejá bem vindo ao curso de python\n"
          ]
        }
      ]
    },
    {
      "cell_type": "markdown",
      "source": [
        "Crie um programa que solicite à pessoa usuária digitar seu nome e idade, e imprima “Olá, [nome], você tem [idade] anos.”."
      ],
      "metadata": {
        "id": "KGutXFWsUWep"
      }
    },
    {
      "cell_type": "code",
      "source": [
        "nome = input('digite seu nome: ')\n",
        "idade = int(input('digite sua idade'))\n",
        "print(f'olá, {nome}, você tem {idade} anos.')"
      ],
      "metadata": {
        "colab": {
          "base_uri": "https://localhost:8080/"
        },
        "id": "_yEpLbz0UYgB",
        "outputId": "5176ff59-b379-41ec-bff6-abcbde38c2f1"
      },
      "execution_count": null,
      "outputs": [
        {
          "output_type": "stream",
          "name": "stdout",
          "text": [
            "digite seu nome: Ediovan\n",
            "digite sua idade29\n",
            "olá, Ediovan, você tem 29 anos.\n"
          ]
        }
      ]
    },
    {
      "cell_type": "markdown",
      "source": [
        "Crie um programa que solicite à pessoa usuária digitar seu nome, idade e altura em metros, e imprima “Olá, [nome], você tem [idade] anos e mede [altura] metros!”."
      ],
      "metadata": {
        "id": "b0gZXcVKUY7B"
      }
    },
    {
      "cell_type": "code",
      "source": [
        "nome = input('digite seu nome: ')\n",
        "idade = int(input('digite sua idade'))\n",
        "altura = float(input('digite sua altura em metros: '))\n",
        "\n",
        "print(f'olá {nome}, você tem {idade} anos e mede {altura} metros!')"
      ],
      "metadata": {
        "colab": {
          "base_uri": "https://localhost:8080/"
        },
        "id": "HJelcbbxUa6x",
        "outputId": "cab6516d-22b8-4035-ed8d-16edc9aecf51"
      },
      "execution_count": null,
      "outputs": [
        {
          "output_type": "stream",
          "name": "stdout",
          "text": [
            "digite seu nome: Ediovan Ribeiro\n",
            "digite sua idade29\n",
            "digite sua altura em metros: 1.87\n",
            "olá Ediovan Ribeiro, você tem 29 anos e mede 1.87 metros!\n"
          ]
        }
      ]
    },
    {
      "cell_type": "markdown",
      "source": [
        "**Calculadora com operadores**"
      ],
      "metadata": {
        "id": "mi2z4DvWV2qZ"
      }
    },
    {
      "cell_type": "markdown",
      "source": [
        "Crie um programa que solicite dois valores numéricos à pessoa usuária e imprima a soma dos dois valores.\n"
      ],
      "metadata": {
        "id": "nYhaUa1xV40B"
      }
    },
    {
      "cell_type": "code",
      "source": [
        "valor1 = int(input(\"digite o primeiro valor:\"))\n",
        "valor2 = int(input(\"digite o segundo valor:\"))\n",
        "soma = valor1 + valor2\n",
        "soma"
      ],
      "metadata": {
        "colab": {
          "base_uri": "https://localhost:8080/"
        },
        "id": "9tNPj89pVAxy",
        "outputId": "d5d15f82-1921-4910-bc3b-60198a3bd3cf"
      },
      "execution_count": null,
      "outputs": [
        {
          "name": "stdout",
          "output_type": "stream",
          "text": [
            "digite o primeiro valor:20\n",
            "digite o segundo valor:10\n"
          ]
        },
        {
          "output_type": "execute_result",
          "data": {
            "text/plain": [
              "30"
            ]
          },
          "metadata": {},
          "execution_count": 8
        }
      ]
    },
    {
      "cell_type": "markdown",
      "source": [
        "Crie um programa que solicite três valores numéricos à pessoa usuária e imprima a soma dos três valores."
      ],
      "metadata": {
        "id": "2-Q1UJOKWVvy"
      }
    },
    {
      "cell_type": "code",
      "source": [
        "valor1 = int(input(\"digite o primeiro valor:\"))\n",
        "valor2 = int(input(\"digite o segundo valor:\"))\n",
        "valor3 = int(input(\"digite o terceiro valor:\"))\n",
        "soma = valor1 + valor2 + valor3\n",
        "soma"
      ],
      "metadata": {
        "colab": {
          "base_uri": "https://localhost:8080/"
        },
        "id": "svYrUF65WDMK",
        "outputId": "d82fc4ae-424c-4322-98a1-613e9ecc7cc5"
      },
      "execution_count": null,
      "outputs": [
        {
          "name": "stdout",
          "output_type": "stream",
          "text": [
            "digite o primeiro valor:10\n",
            "digite o segundo valor:20\n",
            "digite o terceiro valor:30\n"
          ]
        },
        {
          "output_type": "execute_result",
          "data": {
            "text/plain": [
              "60"
            ]
          },
          "metadata": {},
          "execution_count": 9
        }
      ]
    },
    {
      "cell_type": "markdown",
      "source": [
        "Crie um programa que solicite dois valores numéricos à pessoa usuária e imprima a subtração do primeiro pelo o segundo valor."
      ],
      "metadata": {
        "id": "66J9JGPwWkIZ"
      }
    },
    {
      "cell_type": "code",
      "source": [
        "valor1 = int(input(\"digite o primeiro valor:\"))\n",
        "valor2 = int(input(\"digite o segundo valor:\"))\n",
        "subtracao = valor1 - valor2\n",
        "subtracao"
      ],
      "metadata": {
        "colab": {
          "base_uri": "https://localhost:8080/"
        },
        "id": "cqKNPYOAWmoq",
        "outputId": "5efe5ce9-f65f-4831-8552-ba578a7cf498"
      },
      "execution_count": null,
      "outputs": [
        {
          "name": "stdout",
          "output_type": "stream",
          "text": [
            "digite o primeiro valor:10\n",
            "digite o segundo valor:5\n"
          ]
        },
        {
          "output_type": "execute_result",
          "data": {
            "text/plain": [
              "5"
            ]
          },
          "metadata": {},
          "execution_count": 10
        }
      ]
    },
    {
      "cell_type": "markdown",
      "source": [
        "Crie um programa que solicite dois valores numéricos à pessoa usuária e imprima a multiplicação dos dois valores."
      ],
      "metadata": {
        "id": "gaR7h6l1Wv6q"
      }
    },
    {
      "cell_type": "code",
      "source": [
        "valor1 = int(input(\"digite o primeiro valor:\"))\n",
        "valor2 = int(input(\"digite o segundo valor:\"))\n",
        "multiplicacao = valor1 * valor2\n",
        "multiplicacao\n"
      ],
      "metadata": {
        "colab": {
          "base_uri": "https://localhost:8080/"
        },
        "id": "TGAq9oolWvdR",
        "outputId": "b9c2adf8-bc89-47b4-cf99-a962007f6244"
      },
      "execution_count": null,
      "outputs": [
        {
          "name": "stdout",
          "output_type": "stream",
          "text": [
            "digite o primeiro valor:9\n",
            "digite o segundo valor:8\n"
          ]
        },
        {
          "output_type": "execute_result",
          "data": {
            "text/plain": [
              "72"
            ]
          },
          "metadata": {},
          "execution_count": 12
        }
      ]
    },
    {
      "cell_type": "markdown",
      "source": [
        "Crie um programa que solicite dois valores numéricos, um numerador e um denominador, e realize a divisão entre os dois valores. Deixe claro que o valor do denominador não pode ser 0."
      ],
      "metadata": {
        "id": "9cZg3TrmW-Ua"
      }
    },
    {
      "cell_type": "code",
      "source": [
        "numerador = float(input('digite o numerador '))\n",
        "denominador = float(input('digite o denominador, o denominador não pode ser 0 '))\n",
        "divisao = numerador / denominador\n",
        "divisao"
      ],
      "metadata": {
        "colab": {
          "base_uri": "https://localhost:8080/"
        },
        "id": "wjRl3-anXlBK",
        "outputId": "4beb0f14-2385-4608-b2f4-13ba86bad270"
      },
      "execution_count": null,
      "outputs": [
        {
          "name": "stdout",
          "output_type": "stream",
          "text": [
            "digite o numerador 50\n",
            "digite o denominador, o denominador não pode ser 0 5\n"
          ]
        },
        {
          "output_type": "execute_result",
          "data": {
            "text/plain": [
              "10.0"
            ]
          },
          "metadata": {},
          "execution_count": 15
        }
      ]
    },
    {
      "cell_type": "markdown",
      "source": [
        "Crie um programa que solicite dois valores numéricos, um operador e uma potência, e realize a exponenciação entre esses dois valores."
      ],
      "metadata": {
        "id": "8PFuGzFcYbYL"
      }
    },
    {
      "cell_type": "code",
      "source": [
        "operador = float(input('digite o operador '))\n",
        "potencia = float(input('digite a potencia '))\n",
        "exponenciacao = operador ** potencia\n",
        "exponenciacao"
      ],
      "metadata": {
        "colab": {
          "base_uri": "https://localhost:8080/"
        },
        "id": "vHXwgX4_YcAq",
        "outputId": "395a6e47-74ce-4743-bef6-5ab22d9c3662"
      },
      "execution_count": null,
      "outputs": [
        {
          "name": "stdout",
          "output_type": "stream",
          "text": [
            "digite o operador 5\n",
            "digite a potencia 5\n"
          ]
        },
        {
          "output_type": "execute_result",
          "data": {
            "text/plain": [
              "3125.0"
            ]
          },
          "metadata": {},
          "execution_count": 16
        }
      ]
    },
    {
      "cell_type": "markdown",
      "source": [
        "Crie um programa que solicite dois valores numéricos, um numerador e um denominador e realize a divisão inteira entre os dois valores. Deixe claro que o valor do denominador não pode ser 0."
      ],
      "metadata": {
        "id": "oP-4lcGCYkrK"
      }
    },
    {
      "cell_type": "code",
      "source": [
        "numerador = float(input('digite o numerador '))\n",
        "denominador = float(input('digite o denominador, o denominador não pode ser 0 '))\n",
        "divisao = numerador // denominador\n",
        "divisao"
      ],
      "metadata": {
        "colab": {
          "base_uri": "https://localhost:8080/"
        },
        "id": "zNlVoo4oYm85",
        "outputId": "92f99f4e-78cb-49e0-90c3-4b1e328c7b2f"
      },
      "execution_count": null,
      "outputs": [
        {
          "name": "stdout",
          "output_type": "stream",
          "text": [
            "digite o numerador 22\n",
            "digite o denominador, o denominador não pode ser 0 3\n"
          ]
        },
        {
          "output_type": "execute_result",
          "data": {
            "text/plain": [
              "7.0"
            ]
          },
          "metadata": {},
          "execution_count": 17
        }
      ]
    },
    {
      "cell_type": "markdown",
      "source": [
        "Crie um programa que solicite dois valores numéricos, um numerador e um denominador, e retorne o resto da divisão entre os dois valores. Deixe claro que o valor do denominador não pode ser 0."
      ],
      "metadata": {
        "id": "iIXKbFnWYyV7"
      }
    },
    {
      "cell_type": "code",
      "source": [
        "numerador = float(input('digite o numerador '))\n",
        "denominador = float(input('digite o denominador, o denominador não pode ser 0 '))\n",
        "resto = numerador % denominador\n",
        "resto"
      ],
      "metadata": {
        "colab": {
          "base_uri": "https://localhost:8080/"
        },
        "id": "0nrhC991Yx7B",
        "outputId": "6ca9af26-c057-4cd5-d180-5d0076525e97"
      },
      "execution_count": null,
      "outputs": [
        {
          "name": "stdout",
          "output_type": "stream",
          "text": [
            "digite o numerador 23\n",
            "digite o denominador, o denominador não pode ser 0 3\n"
          ]
        },
        {
          "output_type": "execute_result",
          "data": {
            "text/plain": [
              "2.0"
            ]
          },
          "metadata": {},
          "execution_count": 18
        }
      ]
    },
    {
      "cell_type": "markdown",
      "source": [
        "Crie um código que solicita 3 notas de um estudante e imprima a média das notas."
      ],
      "metadata": {
        "id": "joA7qlDpY8vz"
      }
    },
    {
      "cell_type": "code",
      "source": [
        "nota1 = float(input('digite a primeira nota '))\n",
        "nota2 = float(input('digite a segunda nota '))\n",
        "nota3 = float(input('digite a segunda nota '))\n",
        "\n",
        "media = (nota3 + nota2 + nota1) / 3\n",
        "media\n"
      ],
      "metadata": {
        "colab": {
          "base_uri": "https://localhost:8080/"
        },
        "id": "49Rb1vJ0ZPQj",
        "outputId": "9287a1c1-36f8-4759-b3c7-5d617242f596"
      },
      "execution_count": null,
      "outputs": [
        {
          "name": "stdout",
          "output_type": "stream",
          "text": [
            "digite a primeira nota 10\n",
            "digite a segunda nota 8\n",
            "digite a segunda nota7.5\n"
          ]
        },
        {
          "output_type": "execute_result",
          "data": {
            "text/plain": [
              "8.5"
            ]
          },
          "metadata": {},
          "execution_count": 20
        }
      ]
    },
    {
      "cell_type": "markdown",
      "source": [
        "Crie um código que calcule e imprima a média ponderada dos números 5, 12, 20 e 15 com pesos respectivamente iguais a 1, 2, 3 e 4."
      ],
      "metadata": {
        "id": "f1MnHRRlZrjq"
      }
    },
    {
      "cell_type": "code",
      "source": [
        "media_ponderada = (5 * 1 + 12 * 2 + 20 * 3 + 15 * 4) / (1 + 2 + 3 + 4)\n",
        "media_ponderada"
      ],
      "metadata": {
        "colab": {
          "base_uri": "https://localhost:8080/"
        },
        "id": "s7NEwSnwZrTz",
        "outputId": "b8f5eae1-2acd-436b-d24c-91117c9fd781"
      },
      "execution_count": null,
      "outputs": [
        {
          "output_type": "execute_result",
          "data": {
            "text/plain": [
              "14.9"
            ]
          },
          "metadata": {},
          "execution_count": 23
        }
      ]
    },
    {
      "cell_type": "markdown",
      "source": [
        "**Editando textos**"
      ],
      "metadata": {
        "id": "jinQeEnbalra"
      }
    },
    {
      "cell_type": "markdown",
      "source": [
        "Definimos uma frase qualquer entre aspas simples e imprimimos ela inserindo a variável dentro de um print."
      ],
      "metadata": {
        "id": "iw-nWwX1avf6"
      }
    },
    {
      "cell_type": "code",
      "source": [
        "frase= 'olá mundo'\n",
        "frase\n"
      ],
      "metadata": {
        "colab": {
          "base_uri": "https://localhost:8080/",
          "height": 35
        },
        "id": "xZfDNH-_avIC",
        "outputId": "099e609b-af3c-4563-ae8d-a4b2a5695745"
      },
      "execution_count": null,
      "outputs": [
        {
          "output_type": "execute_result",
          "data": {
            "text/plain": [
              "'olá mundo'"
            ],
            "application/vnd.google.colaboratory.intrinsic+json": {
              "type": "string"
            }
          },
          "metadata": {},
          "execution_count": 25
        }
      ]
    },
    {
      "cell_type": "markdown",
      "source": [
        "Crie um código que solicite uma frase e depois imprima a frase na tela."
      ],
      "metadata": {
        "id": "V64eS6_xa9yb"
      }
    },
    {
      "cell_type": "code",
      "source": [
        "frase = input('digite uma frase ')\n",
        "frase"
      ],
      "metadata": {
        "colab": {
          "base_uri": "https://localhost:8080/",
          "height": 53
        },
        "id": "Qnd-kOSea9i6",
        "outputId": "4491368a-fe37-4c76-ccff-0d2559525a65"
      },
      "execution_count": null,
      "outputs": [
        {
          "name": "stdout",
          "output_type": "stream",
          "text": [
            "digite uma fraseolá python\n"
          ]
        },
        {
          "output_type": "execute_result",
          "data": {
            "text/plain": [
              "'olá python'"
            ],
            "application/vnd.google.colaboratory.intrinsic+json": {
              "type": "string"
            }
          },
          "metadata": {},
          "execution_count": 26
        }
      ]
    },
    {
      "cell_type": "markdown",
      "source": [
        "Crie um código que solicite uma frase à pessoa usuária e imprima a mesma frase digitada mas com todas as letras maiúsculas."
      ],
      "metadata": {
        "id": "XRL98polbEXi"
      }
    },
    {
      "cell_type": "code",
      "source": [
        "frase = input('digite uma frase ')\n",
        "frase.upper()"
      ],
      "metadata": {
        "collapsed": true,
        "id": "ISBuuxyua7Di"
      },
      "execution_count": null,
      "outputs": []
    },
    {
      "cell_type": "markdown",
      "source": [],
      "metadata": {
        "id": "-nhPNiT4bWXj"
      }
    }
  ]
}