{
  "nbformat": 4,
  "nbformat_minor": 0,
  "metadata": {
    "colab": {
      "provenance": [],
      "authorship_tag": "ABX9TyNPEcH6Wtvy3vZVbQWufKuB",
      "include_colab_link": true
    },
    "kernelspec": {
      "name": "python3",
      "display_name": "Python 3"
    },
    "language_info": {
      "name": "python"
    }
  },
  "cells": [
    {
      "cell_type": "markdown",
      "metadata": {
        "id": "view-in-github",
        "colab_type": "text"
      },
      "source": [
        "<a href=\"https://colab.research.google.com/github/Ediovan-Ribeiro/Python_exercicios/blob/main/exercicios2.ipynb\" target=\"_parent\"><img src=\"https://colab.research.google.com/assets/colab-badge.svg\" alt=\"Open In Colab\"/></a>"
      ]
    },
    {
      "cell_type": "markdown",
      "source": [
        "1) Escreva um programa que peça à pessoa usuária para fornecer dois números e exibir o número maior."
      ],
      "metadata": {
        "id": "bswSer_p13Lz"
      }
    },
    {
      "cell_type": "code",
      "execution_count": null,
      "metadata": {
        "id": "GzRCvdNe10j7"
      },
      "outputs": [],
      "source": [
        "num1 = float(input(\"Digite o primeiro número\"))\n",
        "num2 = float(input('Digite o segundo número'))\n",
        "if num1 > num2:\n",
        "  print(f'O número {num1} é maior que o número {num2}')\n",
        "else:\n",
        "  print(f'O número {num2} é maior que o número {num1}')"
      ]
    },
    {
      "cell_type": "markdown",
      "source": [
        "2) Escreva um programa que solicite o percentual de crescimento de produção de uma empresa e informe se houve um crescimento (porcentagem positiva) ou decrescimento (porcentagem negativa).\n",
        "\n"
      ],
      "metadata": {
        "id": "U-JKoN9-15Fj"
      }
    },
    {
      "cell_type": "code",
      "source": [
        "  percentual = float(input('Digite o percentual de crescimento'))\n",
        "  if percentual > 0:\n",
        "    print('Houve um crescimento')\n",
        "  else:\n",
        "    print('Houve um decrescimento')"
      ],
      "metadata": {
        "id": "QwunYTe117Cq"
      },
      "execution_count": null,
      "outputs": []
    },
    {
      "cell_type": "markdown",
      "source": [
        "3) Escreva um programa que determine se uma letra fornecida pela pessoa usuária é uma vogal ou consoante."
      ],
      "metadata": {
        "id": "ZqsLP4ys17cC"
      }
    },
    {
      "cell_type": "code",
      "source": [
        "letra = input('Digite uma letra ')\n",
        "if letra == 'a' or letra == 'e' or letra == 'i' or letra == 'o' or letra == 'u':\n",
        "  print('É uma vogal')\n",
        "else:\n",
        "  print(f'{letra} É uma consoante ')"
      ],
      "metadata": {
        "colab": {
          "base_uri": "https://localhost:8080/"
        },
        "id": "dsfphj6S19HK",
        "outputId": "b08942aa-4331-4f91-f592-222aa19146df"
      },
      "execution_count": null,
      "outputs": [
        {
          "output_type": "stream",
          "name": "stdout",
          "text": [
            "Digite uma letra x\n",
            "x É uma consoante \n"
          ]
        }
      ]
    },
    {
      "cell_type": "markdown",
      "source": [
        "4) Escreva um programa que leia valores médios de preços de um modelo de carro por 3 anos consecutivos e exiba o valor mais alto e mais baixo entre esses três anos."
      ],
      "metadata": {
        "id": "5sdCmkWK19ca"
      }
    },
    {
      "cell_type": "code",
      "source": [
        "ano1 = float(input('Digite o primeiro valor do primeiro ano '))\n",
        "ano2 = float(input('Digite o valor do segundo ano '))\n",
        "ano3 = float(input('Digite o valor do terceiro ano '))\n",
        "if ano1 > ano2 and ano1 > ano3:\n",
        "  print(f'O maior valor é {ano1}')\n",
        "elif ano2 > ano1 and ano2 > ano3:\n",
        "    print(f'O maior valor é {ano2}')\n",
        "\n",
        "else:\n",
        "    print(f'O maior valor é {ano3}')"
      ],
      "metadata": {
        "colab": {
          "base_uri": "https://localhost:8080/"
        },
        "id": "yuGC0m9P1_OS",
        "outputId": "fa2d04b8-7bc7-4e1e-8f93-180e0e586314"
      },
      "execution_count": null,
      "outputs": [
        {
          "output_type": "stream",
          "name": "stdout",
          "text": [
            "Digite o primeiro valor do primeiro ano 16200\n",
            "Digite o valor do segundo ano 16210\n",
            "Digite o valor do terceiro ano 16209\n",
            "O maior valor é 16210.0\n"
          ]
        }
      ]
    },
    {
      "cell_type": "markdown",
      "source": [
        "5) Escreva um programa que pergunte sobre o preço de três produtos e indique qual é o produto mais barato para comprar."
      ],
      "metadata": {
        "id": "ifDrGkIw1_iS"
      }
    },
    {
      "cell_type": "code",
      "source": [
        "produto1 = float(input('Digite o preço do primeiro produto '))\n",
        "produto2 = float(input('Digite o preço do segundo produto '))\n",
        "produto3 = float(input('Digite o preço do terceiro produto '))\n",
        "if produto1 < produto2 and produto1 < produto3:\n",
        "  print(f'O produto mais barato é o produto de preço {produto1}')\n",
        "elif produto2 < produto1 and produto2 < produto3:\n",
        "    print(f'O produto mais barato é o produto de preço {produto2}')\n",
        "else:\n",
        "    print(f'O produto mais barato é o produto de preço {produto3}')"
      ],
      "metadata": {
        "colab": {
          "base_uri": "https://localhost:8080/"
        },
        "id": "WEWdQdyX2BMi",
        "outputId": "88601145-665e-468b-d4c3-ac7579c3dfc9"
      },
      "execution_count": null,
      "outputs": [
        {
          "output_type": "stream",
          "name": "stdout",
          "text": [
            "Digite o preço do primeiro produto 10.90\n",
            "Digite o preço do segundo produto 11.20\n",
            "Digite o preço do terceiro produto 13.00\n",
            "O produto mais barato é o produto de preço 10.9\n"
          ]
        }
      ]
    },
    {
      "cell_type": "markdown",
      "source": [
        "6) Escreva um programa que leia três números e os exiba em ordem decrescente."
      ],
      "metadata": {
        "id": "FksfBrA52Bhq"
      }
    },
    {
      "cell_type": "code",
      "source": [
        "num1 = float(input(\"digite o primeiro valor \"))\n",
        "num2 = float(input('Digite o segundo valor '))\n",
        "num3 = float(input('Digite o terceiro valor '))\n",
        "if (num1 >= num2) and (num1 >= num3):\n",
        "    print(num1)\n",
        "    if num2 >= num3:\n",
        "        print(num2)\n",
        "        print(num3)\n",
        "    else:\n",
        "        print(num3)\n",
        "        print(num2)\n",
        "elif (num2 >= num1) and (num2 >= num3):\n",
        "    print(num2)\n",
        "    if num1 >= num3:\n",
        "        print(num1)\n",
        "        print(num3)\n",
        "    else:\n",
        "        print(num3)\n",
        "        print(num1)\n",
        "\n",
        "else:\n",
        "    print(num3)\n",
        "    if num1 >= num2:\n",
        "        print(num1)\n",
        "        print(num2)\n",
        "    else:\n",
        "        print(num2)\n",
        "        print(num1)"
      ],
      "metadata": {
        "colab": {
          "base_uri": "https://localhost:8080/"
        },
        "id": "yRkO_6eQ2C4y",
        "outputId": "6e8a7b75-2efe-4857-e9d4-4c40c226da8b"
      },
      "execution_count": null,
      "outputs": [
        {
          "output_type": "stream",
          "name": "stdout",
          "text": [
            "digite o primeiro valor 10\n",
            "Digite o segundo valor 25\n",
            "Digite o terceiro valor 20\n",
            "25.0\n",
            "20.0\n",
            "10.0\n"
          ]
        }
      ]
    },
    {
      "cell_type": "markdown",
      "source": [
        "7) Escreva um programa que pergunte em qual turno a pessoa usuária estuda (\"manhã\", \"tarde\" ou \"noite\") e exiba a mensagem \"Bom Dia!\", \"Boa Tarde!\", \"Boa Noite!\", ou \"Valor Inválido!\", conforme o caso."
      ],
      "metadata": {
        "id": "yYGwBBlM2DXK"
      }
    },
    {
      "cell_type": "code",
      "source": [
        "turno = input('Em qual turno você estuda? ')\n",
        "\n",
        "if turno == 'manhã':\n",
        "  print('Bom dia!')\n",
        "elif turno == 'tarde':\n",
        "  print('Boa tarde')\n",
        "elif turno == 'noite':\n",
        "  print('Boa noite')\n",
        "else :\n",
        "  print('Valor Inválido')"
      ],
      "metadata": {
        "colab": {
          "base_uri": "https://localhost:8080/"
        },
        "id": "BFaN3L-H2Epa",
        "outputId": "95d08cfa-0fd0-4535-bb38-5b3ae9b87dde"
      },
      "execution_count": null,
      "outputs": [
        {
          "output_type": "stream",
          "name": "stdout",
          "text": [
            "Em qual turno você estuda? amanhadnoite\n",
            "Valor Inválido\n"
          ]
        }
      ]
    },
    {
      "cell_type": "markdown",
      "source": [
        "8) Escreva um programa que peça um número inteiro à pessoa usuária e determine se ele é par ou ímpar. Dica: Você pode utilizar o operador módulo %."
      ],
      "metadata": {
        "id": "OOGtRAtu2FL6"
      }
    },
    {
      "cell_type": "code",
      "source": [
        "valor1 = int(input('Digite um número inteiro '))\n",
        "if valor1 % 2 == 0:\n",
        "  print(f'O número {valor1} é par')\n",
        "else:\n",
        "  print(f'O número {valor1} é ímpar')"
      ],
      "metadata": {
        "id": "FspQmx932G36"
      },
      "execution_count": null,
      "outputs": []
    },
    {
      "cell_type": "markdown",
      "source": [
        "9) Escreva um programa que peça um número à pessoa usuária e informe se ele é inteiro ou decimal."
      ],
      "metadata": {
        "id": "7eBz9HRA2HFa"
      }
    },
    {
      "cell_type": "code",
      "source": [
        "numero = float(input('Digite um número '))\n",
        "if numero == int(numero):\n",
        "  print(f'O número {numero} é inteiro')\n",
        "else:\n",
        "  print(f'O número {numero} é decimal')"
      ],
      "metadata": {
        "id": "XdYoS__N2I2a"
      },
      "execution_count": null,
      "outputs": []
    },
    {
      "cell_type": "markdown",
      "source": [
        "10) Um programa deve ser escrito para ler dois números e, em seguida, perguntar à pessoa usuária qual operação ele deseja realizar. O resultado da operação deve incluir informações sobre o número - se é par ou ímpar, positivo ou negativo e inteiro ou decimal."
      ],
      "metadata": {
        "id": "Ys34abpm2Nta"
      }
    },
    {
      "cell_type": "code",
      "source": [
        "numero1 = float(input('Digite o primeiro número '))\n",
        "numero2 = float(input('Digite o segundo número '))\n",
        "operacao = input('Qual operação deseja realizar? ')\n",
        "if operacao == '+':\n",
        "  resultado = numero1 + numero2\n",
        "  print(resultado)\n",
        "elif operacao == '-':\n",
        "  resultado = numero1 - numero2\n",
        "  print(resultado)\n",
        "elif operacao == '*':\n",
        "  resultado = numero1 * numero2\n",
        "  print(resultado)\n",
        "elif operacao == '/':\n",
        "  resultado = numero1 / numero2\n",
        "  print(resultado)\n",
        "else:\n",
        "  print('Operação inválida')"
      ],
      "metadata": {
        "id": "UoeI9T_y2Ncy"
      },
      "execution_count": null,
      "outputs": []
    },
    {
      "cell_type": "markdown",
      "source": [
        "11) Escreva um programa que peça à pessoa usuária três números que representam os lados de um triângulo. O programa deve informar se os valores podem ser utilizados para formar um triângulo e, caso afirmativo, se ele é equilátero, isósceles ou escaleno. Tenha em mente algumas dicas:\n",
        "\n",
        "Três lados formam um triângulo quando a soma de quaisquer dois lados for maior que o terceiro;\n",
        "Triângulo Equilátero: três lados iguais;\n",
        "Triângulo Isósceles: quaisquer dois lados iguais;\n",
        "Triângulo Escaleno: três lados diferentes."
      ],
      "metadata": {
        "id": "lSy9XVIT2OYT"
      }
    },
    {
      "cell_type": "code",
      "source": [
        "lado1 = int(input('Digite o primeiro lado do triângulo '))\n",
        "lado2 = int(input('Digite o segundo lado do triângulo '))\n",
        "lado3 = int(input('Digite o terceiro lado do triângulo '))\n",
        "if lado1 + lado2 > lado3 and lado1 + lado3 > lado2 and lado2 + lado3 > lado1:\n",
        "  print('é um triângulo')\n",
        "  if lado1 == lado2 == lado3:\n",
        "    print('Triângulo equilátero')\n",
        "  elif lado1 != lado2 != lado3 != lado1:\n",
        "    print('triãngulo escaleno')\n",
        "  else:\n",
        "    print('triângulo Isósceles')\n",
        "else:\n",
        "  print('Não pode formar um triângulo')"
      ],
      "metadata": {
        "id": "36GUdOLK2QfL",
        "colab": {
          "base_uri": "https://localhost:8080/"
        },
        "outputId": "1a996c28-d93d-407a-8460-8b87b29fff15"
      },
      "execution_count": 7,
      "outputs": [
        {
          "output_type": "stream",
          "name": "stdout",
          "text": [
            "Digite o primeiro lado do triângulo 12\n",
            "Digite o segundo lado do triângulo 13\n",
            "Digite o terceiro lado do triângulo 15\n",
            "é um triângulo\n",
            "triãngulo escaleno\n"
          ]
        }
      ]
    },
    {
      "cell_type": "markdown",
      "source": [
        "12) Um estabelecimento está vendendo combustíveis com descontos variados. Para o etanol, se a quantidade comprada for até 15 litros, o desconto será de 2% por litro. Caso contrário, será de 4% por litro. Para o diesel, se a quantidade comprada for até 15 litros, o desconto será de 3% por litro. Caso contrário, será de 5% por litro. O preço do litro de diesel é R$ 2,00 e o preço do litro de etanol é R$ 1,70. Escreva um programa que leia a quantidade de litros vendidos e o tipo de combustível (E para etanol e D para diesel) e calcule o valor a ser pago pelo cliente. Tenha em mente algumas dicas:\n",
        "\n",
        "O do valor do desconto será a multiplicação entre preço do litro, quantidade de litros e o valor do desconto.\n",
        "O valor a ser pago por um cliente será o resultado da multiplicação do preço do litro pela quantidade de litros menos o valor de desconto resultante do cálculo."
      ],
      "metadata": {
        "id": "U6BJ0ejZ2Q5y"
      }
    },
    {
      "cell_type": "code",
      "source": [
        "combustivel = input('qual combustível você vai abatercer: e= etanol, d= diesel ')\n",
        "quantidade = float(input('Digite a quantidade de litros '))\n",
        "if combustivel == 'e':\n",
        "  if quantidade <= 15:\n",
        "    desconto = 0.02\n",
        "    print (f'desconto de {desconto} aplicado por litro de combustível ')\n",
        "    valorE = quantidade * (1.70 - desconto)\n",
        "    print (f'O valor é com desconto é de R${valorE:.2f} ')\n",
        "  else:\n",
        "    desconto = 0.04\n",
        "    print (f'desconto de {desconto} aplicado por litro de combustível ')\n",
        "    valorE = quantidade * (1.70 - desconto)\n",
        "    print (f'O valor é com desconto é de R${valorE:.2f} ')\n",
        "if combustivel == 'd':\n",
        "  if quantidade <= 15:\n",
        "    desconto = 0.03\n",
        "    print (f'desconto de {desconto} aplicado por litro de combustível ')\n",
        "    valorE = quantidade * (1.70 - desconto)\n",
        "    print (f'O valor é com desconto é de R${valorE:.2f} ')\n",
        "  else:\n",
        "    desconto = 0.05\n",
        "    print (f'desconto de {desconto} aplicado por litro de combustível ')\n",
        "    valorE = quantidade * (1.70 - desconto)\n",
        "    print (f'O valor é com desconto é de R${valorE:.2f} ')\n"
      ],
      "metadata": {
        "id": "UJ5E44p02S4k",
        "colab": {
          "base_uri": "https://localhost:8080/"
        },
        "outputId": "1a211490-cfe6-4937-8b70-bd60d9a40dc4"
      },
      "execution_count": 10,
      "outputs": [
        {
          "output_type": "stream",
          "name": "stdout",
          "text": [
            "qual combustível você vai abatercer: e= etanol, d= diesel e\n",
            "Digite a quantidade de litros 40\n",
            "desconto de 0.04 aplicado por litro de combustível \n",
            "O valor é com desconto é de R$66.40 \n"
          ]
        }
      ]
    },
    {
      "cell_type": "markdown",
      "source": [
        "13) Em uma empresa de venda de imóveis você precisa criar um código que analise os dados de vendas anuais para ajudar a diretoria na tomada de decisão. O código precisa coletar os dados de quantidade de venda durante os anos de 2022 e 2023 e fazer um cálculo de variação percentual. A partir do valor da variação, deve ser enviada às seguintes sugestões:\n",
        "\n",
        "\n",
        "\n",
        "1.   Para variação acima de 20%: bonificação para o time de vendas.\n",
        "2.   Para variação entre 2% e 20%: pequena bonificação para time de vendas.\n",
        "3.   Para variação entre 2% e -10%: planejamento de políticas de incentivo às vendas.\n",
        "4.   Para bonificações abaixo de -10%: corte de gastos."
      ],
      "metadata": {
        "id": "ITUF42bX2Tpi"
      }
    },
    {
      "cell_type": "code",
      "source": [
        "vendas2022 = float(input('digite a quantidade de vendas do ano de 2022 '))\n",
        "vendas2023 = float(input('digite a quantidade de vendas do ano de 2023 '))\n",
        "\n",
        "percentual = 100* (vendas2023 - vendas2022) / vendas2022\n",
        "\n",
        "if percentual > 20:\n",
        "\n",
        "  print('variação acima de 20%: bonificação para o time de vendas.')\n",
        "elif percentual >= 2 and percentual <= 20:\n",
        "  print('entre 2% e 20%: pequena bonificação para time de vendas')\n",
        "elif percentual >= - 10 and percentual <= 2:\n",
        "  print('variação entre 2% e -10%: planejamento de políticas de incentivo às vendas.')\n",
        "else:\n",
        "  print('abaixo de -10%: corte de gastos.')"
      ],
      "metadata": {
        "id": "61u-E5uO2VUT",
        "colab": {
          "base_uri": "https://localhost:8080/"
        },
        "outputId": "5c76aacf-91b9-4107-c730-3fa38d259fa9"
      },
      "execution_count": 21,
      "outputs": [
        {
          "output_type": "stream",
          "name": "stdout",
          "text": [
            "digite a quantidade de vendas do ano de 2022 50\n",
            "digite a quantidade de vendas do ano de 2023 49\n",
            "variação entre 2% e -10%: planejamento de políticas de incentivo às vendas.\n"
          ]
        }
      ]
    }
  ]
}